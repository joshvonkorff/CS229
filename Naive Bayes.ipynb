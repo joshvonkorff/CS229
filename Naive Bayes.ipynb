{
 "cells": [
  {
   "cell_type": "markdown",
   "metadata": {},
   "source": [
    "The goal of this notebook is to implement a Naive Bayes algorithm.  For this purpose, I will need to obtain some labeled text data, where a collection of words is assigned a label of either 0 or 1.  I will get this text data from Kaggle.  It is called the Naive Bayes training set.  I will use spam_ham.csv, which lists a bunch of e-mails and classifies them as \"spam\" or \"ham\"."
   ]
  },
  {
   "cell_type": "code",
   "execution_count": 2,
   "metadata": {},
   "outputs": [
    {
     "data": {
      "text/plain": [
       "['play_golf_train.csv',\n",
       " 'Iris_Data.csv',\n",
       " 'play_golf_test.csv',\n",
       " 'ag_news.csv',\n",
       " 'spam_ham.csv']"
      ]
     },
     "execution_count": 2,
     "metadata": {},
     "output_type": "execute_result"
    }
   ],
   "source": [
    "import os\n",
    "import pandas as pd\n",
    "os.listdir(\"Naive Bayes Training Set\")"
   ]
  },
  {
   "cell_type": "code",
   "execution_count": 3,
   "metadata": {},
   "outputs": [],
   "source": [
    "df = pd.read_csv(\"Naive Bayes Training Set/spam_ham.csv\", encoding = \"latin1\")[['v1', 'v2']]"
   ]
  },
  {
   "cell_type": "code",
   "execution_count": 4,
   "metadata": {},
   "outputs": [],
   "source": [
    "df['target'] = df['v1'].apply(lambda x: 1 if x == \"spam\" else 0)"
   ]
  },
  {
   "cell_type": "markdown",
   "metadata": {},
   "source": [
    "Approach:\n",
    "\n",
    "$\\phi_{j|y=1} = p(x_j | y = 1) = $ of those samples with y = 1, what fraction contain word j?\n",
    "\n",
    "$\\phi_{j|y=0} = p(x_j | y = 0) = $ of those samples with y = 0, what fraction contain word j?\n",
    "\n",
    "$\\phi_{y=k} = p(y = k)$ = out of all samples, what fraction have the given value of y?\n",
    "\n",
    "$p(x|y=0)$ = $\\Pi_{i=1}^n p(x_i | y = 0)$\n",
    "\n",
    "$p(x|y=1)$ = $\\Pi_{i=1}^n p(x_i | y = 1)$\n",
    "\n",
    "$p(x, y = k) = p(x|y=k) p(y=k)$\n",
    "\n",
    "$p(y = k|x) = \\frac{p(x, y = k)}{p(x)} = \\frac{p(x|y=k) p(y = k)}{p(x)}$\n",
    "\n",
    "$p(x) = p(x, y = 1) + p(x, y = 0)$"
   ]
  },
  {
   "cell_type": "code",
   "execution_count": 5,
   "metadata": {},
   "outputs": [],
   "source": [
    "import numpy as np\n",
    "def isword(word):\n",
    "    if len(word) == 0:\n",
    "        return 0\n",
    "    for letter in word:\n",
    "        if letter.lower() not in \"abcdefghijklmnopqrstuvwxyz\":\n",
    "            return 0\n",
    "    return 1"
   ]
  },
  {
   "cell_type": "code",
   "execution_count": 6,
   "metadata": {},
   "outputs": [],
   "source": [
    "unique_words = np.unique([word.lower() for lst in df['v2'].apply(lambda x: x.split()) for word in lst if isword(word)])"
   ]
  },
  {
   "cell_type": "code",
   "execution_count": 7,
   "metadata": {},
   "outputs": [
    {
     "data": {
      "text/plain": [
       "array(['listed', 'listen', 'listener', 'listening', 'listn', 'lit',\n",
       "       'literally', 'litres', 'little', 'live', 'lived', 'liverpool',\n",
       "       'lives', 'living', 'lk', 'll', 'lmao', 'lnly', 'lo', 'load',\n",
       "       'loads', 'loan', 'loans', 'lobby', 'local', 'location',\n",
       "       'locations', 'lock', 'locks', 'lodge', 'lodging', 'log', 'logged',\n",
       "       'logging', 'login', 'logo', 'logoff', 'logon', 'logos', 'loko',\n",
       "       'lol', 'lololo', 'londn', 'london', 'loneliness', 'lonely', 'long',\n",
       "       'longer', 'lonlines', 'loo', 'look', 'looked', 'lookin', 'looking',\n",
       "       'looks', 'loooooool', 'looovvve', 'loose', 'loosing', 'loosu',\n",
       "       'lor', 'lord', 'lose', 'losers', 'loses', 'losing', 'loss', 'lost',\n",
       "       'lot', 'lotr', 'lots', 'lotta', 'lotto', 'lotz', 'lou', 'loud',\n",
       "       'lounge', 'lousy', 'lov', 'lovable', 'love', 'loved', 'lovejen',\n",
       "       'lovely', 'loveme', 'lover', 'loverboy', 'lovers', 'loves',\n",
       "       'loving', 'lovingly', 'low', 'lower', 'loxahatchee', 'loyal',\n",
       "       'loyalty', 'lst', 'lt', 'ltd', 'luck'], dtype='<U34')"
      ]
     },
     "execution_count": 7,
     "metadata": {},
     "output_type": "execute_result"
    }
   ],
   "source": [
    "unique_words[3000:3100]"
   ]
  },
  {
   "cell_type": "code",
   "execution_count": 8,
   "metadata": {},
   "outputs": [
    {
     "data": {
      "text/plain": [
       "array(['a', 'aa', 'aah', ..., 'zoom', 'zouk', 'zyada'], dtype='<U34')"
      ]
     },
     "execution_count": 8,
     "metadata": {},
     "output_type": "execute_result"
    }
   ],
   "source": [
    "unique_words"
   ]
  },
  {
   "cell_type": "code",
   "execution_count": 9,
   "metadata": {},
   "outputs": [],
   "source": [
    "df_Bayes = df.copy()"
   ]
  },
  {
   "cell_type": "markdown",
   "metadata": {},
   "source": [
    "Create a column in df_Bayes for each word.  This column first contains only 0's but later it will contain a 1 if that particular word is in the e-mail text for that row."
   ]
  },
  {
   "cell_type": "code",
   "execution_count": 10,
   "metadata": {},
   "outputs": [],
   "source": [
    "for word in unique_words:\n",
    "    df_Bayes[word] = 0"
   ]
  },
  {
   "cell_type": "markdown",
   "metadata": {},
   "source": [
    "Process df_Bayes to assign y = 1 to each word that is in the e-mail text for that row."
   ]
  },
  {
   "cell_type": "code",
   "execution_count": 12,
   "metadata": {},
   "outputs": [],
   "source": [
    "for i in df_Bayes.index:\n",
    "    for word in df_Bayes.loc[i, 'v2'].split():\n",
    "        if isword(word):\n",
    "            df_Bayes.loc[i, word.lower()] = 1"
   ]
  },
  {
   "cell_type": "code",
   "execution_count": 57,
   "metadata": {},
   "outputs": [],
   "source": [
    "def p_x_given_k(df_Bayes, phrase, k):\n",
    "    prob = 1\n",
    "    for word in np.unique([word.lower() for word in phrase.split()]):\n",
    "        if isword(word):\n",
    "            if word in df_Bayes.columns:\n",
    "                print(word, df_Bayes[(df_Bayes['target'] == k) & (df_Bayes[word] == 1)].shape[0],\n",
    "                    df_Bayes[df_Bayes['target'] == k].shape[0])\n",
    "                prob *= df_Bayes[(df_Bayes['target'] == k) & (df_Bayes[word] == 1)].shape[0] / df_Bayes[df_Bayes['target'] == k].shape[0]\n",
    "            else:\n",
    "                prob *= 0\n",
    "    return prob"
   ]
  },
  {
   "cell_type": "markdown",
   "metadata": {},
   "source": [
    "Find the first five spam e-mails and their index values."
   ]
  },
  {
   "cell_type": "code",
   "execution_count": 68,
   "metadata": {
    "scrolled": false
   },
   "outputs": [
    {
     "data": {
      "text/html": [
       "<div>\n",
       "<style scoped>\n",
       "    .dataframe tbody tr th:only-of-type {\n",
       "        vertical-align: middle;\n",
       "    }\n",
       "\n",
       "    .dataframe tbody tr th {\n",
       "        vertical-align: top;\n",
       "    }\n",
       "\n",
       "    .dataframe thead th {\n",
       "        text-align: right;\n",
       "    }\n",
       "</style>\n",
       "<table border=\"1\" class=\"dataframe\">\n",
       "  <thead>\n",
       "    <tr style=\"text-align: right;\">\n",
       "      <th></th>\n",
       "      <th>v1</th>\n",
       "      <th>v2</th>\n",
       "      <th>target</th>\n",
       "      <th>a</th>\n",
       "      <th>aa</th>\n",
       "      <th>aah</th>\n",
       "      <th>aaniye</th>\n",
       "      <th>aaooooright</th>\n",
       "      <th>abdomen</th>\n",
       "      <th>abi</th>\n",
       "      <th>...</th>\n",
       "      <th>z</th>\n",
       "      <th>zac</th>\n",
       "      <th>zebra</th>\n",
       "      <th>zed</th>\n",
       "      <th>zhong</th>\n",
       "      <th>zindgi</th>\n",
       "      <th>zoe</th>\n",
       "      <th>zoom</th>\n",
       "      <th>zouk</th>\n",
       "      <th>zyada</th>\n",
       "    </tr>\n",
       "  </thead>\n",
       "  <tbody>\n",
       "    <tr>\n",
       "      <th>2</th>\n",
       "      <td>spam</td>\n",
       "      <td>Free entry in 2 a wkly comp to win FA Cup fina...</td>\n",
       "      <td>1</td>\n",
       "      <td>1</td>\n",
       "      <td>0</td>\n",
       "      <td>0</td>\n",
       "      <td>0</td>\n",
       "      <td>0</td>\n",
       "      <td>0</td>\n",
       "      <td>0</td>\n",
       "      <td>...</td>\n",
       "      <td>0</td>\n",
       "      <td>0</td>\n",
       "      <td>0</td>\n",
       "      <td>0</td>\n",
       "      <td>0</td>\n",
       "      <td>0</td>\n",
       "      <td>0</td>\n",
       "      <td>0</td>\n",
       "      <td>0</td>\n",
       "      <td>0</td>\n",
       "    </tr>\n",
       "    <tr>\n",
       "      <th>5</th>\n",
       "      <td>spam</td>\n",
       "      <td>FreeMsg Hey there darling it's been 3 week's n...</td>\n",
       "      <td>1</td>\n",
       "      <td>0</td>\n",
       "      <td>0</td>\n",
       "      <td>0</td>\n",
       "      <td>0</td>\n",
       "      <td>0</td>\n",
       "      <td>0</td>\n",
       "      <td>0</td>\n",
       "      <td>...</td>\n",
       "      <td>0</td>\n",
       "      <td>0</td>\n",
       "      <td>0</td>\n",
       "      <td>0</td>\n",
       "      <td>0</td>\n",
       "      <td>0</td>\n",
       "      <td>0</td>\n",
       "      <td>0</td>\n",
       "      <td>0</td>\n",
       "      <td>0</td>\n",
       "    </tr>\n",
       "    <tr>\n",
       "      <th>8</th>\n",
       "      <td>spam</td>\n",
       "      <td>WINNER!! As a valued network customer you have...</td>\n",
       "      <td>1</td>\n",
       "      <td>1</td>\n",
       "      <td>0</td>\n",
       "      <td>0</td>\n",
       "      <td>0</td>\n",
       "      <td>0</td>\n",
       "      <td>0</td>\n",
       "      <td>0</td>\n",
       "      <td>...</td>\n",
       "      <td>0</td>\n",
       "      <td>0</td>\n",
       "      <td>0</td>\n",
       "      <td>0</td>\n",
       "      <td>0</td>\n",
       "      <td>0</td>\n",
       "      <td>0</td>\n",
       "      <td>0</td>\n",
       "      <td>0</td>\n",
       "      <td>0</td>\n",
       "    </tr>\n",
       "    <tr>\n",
       "      <th>9</th>\n",
       "      <td>spam</td>\n",
       "      <td>Had your mobile 11 months or more? U R entitle...</td>\n",
       "      <td>1</td>\n",
       "      <td>0</td>\n",
       "      <td>0</td>\n",
       "      <td>0</td>\n",
       "      <td>0</td>\n",
       "      <td>0</td>\n",
       "      <td>0</td>\n",
       "      <td>0</td>\n",
       "      <td>...</td>\n",
       "      <td>0</td>\n",
       "      <td>0</td>\n",
       "      <td>0</td>\n",
       "      <td>0</td>\n",
       "      <td>0</td>\n",
       "      <td>0</td>\n",
       "      <td>0</td>\n",
       "      <td>0</td>\n",
       "      <td>0</td>\n",
       "      <td>0</td>\n",
       "    </tr>\n",
       "    <tr>\n",
       "      <th>11</th>\n",
       "      <td>spam</td>\n",
       "      <td>SIX chances to win CASH! From 100 to 20,000 po...</td>\n",
       "      <td>1</td>\n",
       "      <td>0</td>\n",
       "      <td>0</td>\n",
       "      <td>0</td>\n",
       "      <td>0</td>\n",
       "      <td>0</td>\n",
       "      <td>0</td>\n",
       "      <td>0</td>\n",
       "      <td>...</td>\n",
       "      <td>0</td>\n",
       "      <td>0</td>\n",
       "      <td>0</td>\n",
       "      <td>0</td>\n",
       "      <td>0</td>\n",
       "      <td>0</td>\n",
       "      <td>0</td>\n",
       "      <td>0</td>\n",
       "      <td>0</td>\n",
       "      <td>0</td>\n",
       "    </tr>\n",
       "  </tbody>\n",
       "</table>\n",
       "<p>5 rows × 6134 columns</p>\n",
       "</div>"
      ],
      "text/plain": [
       "      v1                                                 v2  target  a  aa  \\\n",
       "2   spam  Free entry in 2 a wkly comp to win FA Cup fina...       1  1   0   \n",
       "5   spam  FreeMsg Hey there darling it's been 3 week's n...       1  0   0   \n",
       "8   spam  WINNER!! As a valued network customer you have...       1  1   0   \n",
       "9   spam  Had your mobile 11 months or more? U R entitle...       1  0   0   \n",
       "11  spam  SIX chances to win CASH! From 100 to 20,000 po...       1  0   0   \n",
       "\n",
       "    aah  aaniye  aaooooright  abdomen  abi  ...    z  zac  zebra  zed  zhong  \\\n",
       "2     0       0            0        0    0  ...    0    0      0    0      0   \n",
       "5     0       0            0        0    0  ...    0    0      0    0      0   \n",
       "8     0       0            0        0    0  ...    0    0      0    0      0   \n",
       "9     0       0            0        0    0  ...    0    0      0    0      0   \n",
       "11    0       0            0        0    0  ...    0    0      0    0      0   \n",
       "\n",
       "    zindgi  zoe  zoom  zouk  zyada  \n",
       "2        0    0     0     0      0  \n",
       "5        0    0     0     0      0  \n",
       "8        0    0     0     0      0  \n",
       "9        0    0     0     0      0  \n",
       "11       0    0     0     0      0  \n",
       "\n",
       "[5 rows x 6134 columns]"
      ]
     },
     "execution_count": 68,
     "metadata": {},
     "output_type": "execute_result"
    }
   ],
   "source": [
    "df_Bayes[df_Bayes['target'] == 1].iloc[0:5]"
   ]
  },
  {
   "cell_type": "markdown",
   "metadata": {},
   "source": [
    "Use the exact phrase for the second e-mail as the phrase to be tested."
   ]
  },
  {
   "cell_type": "code",
   "execution_count": 66,
   "metadata": {},
   "outputs": [
    {
     "data": {
      "text/plain": [
       "\"Free entry in 2 a wkly comp to win FA Cup final tkts 21st May 2005. Text FA to 87121 to receive entry question(std txt rate)T&C's apply 08452810075over18's\""
      ]
     },
     "execution_count": 66,
     "metadata": {},
     "output_type": "execute_result"
    }
   ],
   "source": [
    "phrase = df_Bayes.iloc[2]['v2']\n",
    "phrase"
   ]
  },
  {
   "cell_type": "markdown",
   "metadata": {},
   "source": [
    "This function finds the probability that the phrase is y = 1, i.e. spam."
   ]
  },
  {
   "cell_type": "code",
   "execution_count": 70,
   "metadata": {
    "scrolled": true
   },
   "outputs": [],
   "source": [
    "def prob_1_phrase(df_Bayes, phrase):\n",
    "    p1 = p_x_given_k(df_Bayes, phrase, 1) * df_Bayes[df_Bayes[\"target\"] == 1].shape[0]\n",
    "    p0 = p_x_given_k(df_Bayes, phrase, 0) * df_Bayes[df_Bayes[\"target\"] == 0].shape[0]\n",
    "    return (p1 / (p1 + p0))"
   ]
  },
  {
   "cell_type": "code",
   "execution_count": 71,
   "metadata": {},
   "outputs": [
    {
     "name": "stdout",
     "output_type": "stream",
     "text": [
      "a 291 747\n",
      "apply 15 747\n",
      "comp 9 747\n",
      "cup 5 747\n",
      "entry 21 747\n",
      "fa 2 747\n",
      "final 16 747\n",
      "free 151 747\n",
      "in 60 747\n",
      "may 7 747\n",
      "receive 29 747\n",
      "text 96 747\n",
      "tkts 4 747\n",
      "to 464 747\n",
      "txt 129 747\n",
      "win 58 747\n",
      "wkly 14 747\n",
      "a 870 4825\n",
      "apply 2 4825\n",
      "comp 1 4825\n",
      "cup 3 4825\n",
      "entry 0 4825\n",
      "fa 0 4825\n",
      "final 2 4825\n",
      "free 47 4825\n",
      "in 712 4825\n",
      "may 34 4825\n",
      "receive 4 4825\n",
      "text 61 4825\n",
      "tkts 0 4825\n",
      "to 1210 4825\n",
      "txt 12 4825\n",
      "win 7 4825\n",
      "wkly 0 4825\n"
     ]
    },
    {
     "data": {
      "text/plain": [
       "1.0"
      ]
     },
     "execution_count": 71,
     "metadata": {},
     "output_type": "execute_result"
    }
   ],
   "source": [
    "prob_1_phrase(df_Bayes, phrase)"
   ]
  },
  {
   "cell_type": "markdown",
   "metadata": {},
   "source": [
    "With Laplace smoothing.  This means that even words with zero instances for the given target are assigned some nonzero probability."
   ]
  },
  {
   "cell_type": "code",
   "execution_count": null,
   "metadata": {},
   "outputs": [],
   "source": [
    "def Laplace_p_x_given_k(df_Bayes, phrase, k):\n",
    "    prob = 1\n",
    "    for word in np.unique([word.lower() for word in phrase.split()]):\n",
    "        if isword(word):\n",
    "            if word in df_Bayes.columns:\n",
    "                print(word, df_Bayes[(df_Bayes['target'] == k) & (df_Bayes[word] == 1)].shape[0],\n",
    "                    df_Bayes[df_Bayes['target'] == k].shape[0])\n",
    "                prob *= (df_Bayes[(df_Bayes['target'] == k) & (df_Bayes[word] == 1)].shape[0] + 1) / (df_Bayes[df_Bayes['target'] == k].shape[0] + 2)\n",
    "            else:\n",
    "                prob *= 1 / (df_Bayes[df_Bayes['target'] == k].shape[0] + 2)\n",
    "    return prob"
   ]
  },
  {
   "cell_type": "code",
   "execution_count": 75,
   "metadata": {},
   "outputs": [],
   "source": [
    "def Laplace_prob_1_phrase(df_Bayes, phrase):\n",
    "    p1 = Laplace_p_x_given_k(df_Bayes, phrase, 1) * df_Bayes[df_Bayes[\"target\"] == 1].shape[0]\n",
    "    p0 = Laplace_p_x_given_k(df_Bayes, phrase, 0) * df_Bayes[df_Bayes[\"target\"] == 0].shape[0]\n",
    "    return (p1 / (p1 + p0))"
   ]
  },
  {
   "cell_type": "markdown",
   "metadata": {},
   "source": [
    "This phrase gets a probability of almost 1.0 to be spam, because the words: \"fa\", \"tkts\", and \"wkly\" appear ONLY in spam phrases.  In fact, \"wkly\" appears 14 times in spam phrases.  We couldn't reduce this probability by admitting only words with a large incidence.  I wonder if most phrases will have at least one word that never appears on one group or the other; therefore that phrase will have a probability of either 0 (if it has a word that never appears in y = 1) or 1 (if it has a word that never appears in y = 0).  Perhaps we need a larger data set than ~5,000 ham and spam e-mails."
   ]
  },
  {
   "cell_type": "code",
   "execution_count": 77,
   "metadata": {
    "scrolled": true
   },
   "outputs": [
    {
     "name": "stdout",
     "output_type": "stream",
     "text": [
      "a 291 747\n",
      "apply 15 747\n",
      "comp 9 747\n",
      "cup 5 747\n",
      "entry 21 747\n",
      "fa 2 747\n",
      "final 16 747\n",
      "free 151 747\n",
      "in 60 747\n",
      "may 7 747\n",
      "receive 29 747\n",
      "text 96 747\n",
      "tkts 4 747\n",
      "to 464 747\n",
      "txt 129 747\n",
      "win 58 747\n",
      "wkly 14 747\n",
      "a 870 4825\n",
      "apply 2 4825\n",
      "comp 1 4825\n",
      "cup 3 4825\n",
      "entry 0 4825\n",
      "fa 0 4825\n",
      "final 2 4825\n",
      "free 47 4825\n",
      "in 712 4825\n",
      "may 34 4825\n",
      "receive 4 4825\n",
      "text 61 4825\n",
      "tkts 0 4825\n",
      "to 1210 4825\n",
      "txt 12 4825\n",
      "win 7 4825\n",
      "wkly 0 4825\n"
     ]
    },
    {
     "data": {
      "text/plain": [
       "0.999999999999742"
      ]
     },
     "execution_count": 77,
     "metadata": {},
     "output_type": "execute_result"
    }
   ],
   "source": [
    "Laplace_prob_1_phrase(df_Bayes, phrase)"
   ]
  },
  {
   "cell_type": "code",
   "execution_count": null,
   "metadata": {},
   "outputs": [],
   "source": []
  }
 ],
 "metadata": {
  "kernelspec": {
   "display_name": "Python 3",
   "language": "python",
   "name": "python3"
  },
  "language_info": {
   "codemirror_mode": {
    "name": "ipython",
    "version": 3
   },
   "file_extension": ".py",
   "mimetype": "text/x-python",
   "name": "python",
   "nbconvert_exporter": "python",
   "pygments_lexer": "ipython3",
   "version": "3.6.4"
  }
 },
 "nbformat": 4,
 "nbformat_minor": 2
}
